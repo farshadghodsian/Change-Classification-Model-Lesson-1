{
 "cells": [
  {
   "cell_type": "markdown",
   "metadata": {},
   "source": [
    "# Using a Machine Learning to assign Changes in Request Mangement System\n",
    "\n",
    "\n",
    "The chosen dataset is from the Change Request system of a ficticious Cloud company containing all their change data from the previous year. Using this data we will attempt to train and test a Machine Learning Model using various Classification Algorithms that can be used via a prediction API to later assign live data to various technical teams.  The dataset we have is limited as we only have the Change ID, Requestor, Client, Location, and Classification of each change. We will aim to get an above 80% accuracy rate with our Machine Learning Model. \n",
    "\n",
    "Note: All names in this data are ficticious and were generated using the name generator at https://www.name-generator.org.uk/\n",
    "\n",
    "\n",
    "### Importing Historical Change Data from the Previous Year"
   ]
  },
  {
   "cell_type": "code",
   "execution_count": 15,
   "metadata": {},
   "outputs": [],
   "source": [
    "import pandas as pd               # pandas is a dataframe library\n",
    "import matplotlib.pyplot as plt   # matplotlib.pyplot plots data\n",
    "import numpy as np                # numpy provides N-dimensional object support\n",
    "\n",
    "df = pd.read_csv(\"ChangeHistoryData.csv\")   # This is our ficticious change history data, df stands for dataframe"
   ]
  },
  {
   "cell_type": "code",
   "execution_count": 16,
   "metadata": {},
   "outputs": [
    {
     "data": {
      "text/plain": [
       "(387, 6)"
      ]
     },
     "execution_count": 16,
     "metadata": {},
     "output_type": "execute_result"
    }
   ],
   "source": [
    "df.shape   # This will show number of rows in the dataframe and number of columns, shows us 6 columns and 387 rows of data"
   ]
  },
  {
   "cell_type": "code",
   "execution_count": 17,
   "metadata": {},
   "outputs": [
    {
     "data": {
      "text/html": [
       "<div>\n",
       "<style scoped>\n",
       "    .dataframe tbody tr th:only-of-type {\n",
       "        vertical-align: middle;\n",
       "    }\n",
       "\n",
       "    .dataframe tbody tr th {\n",
       "        vertical-align: top;\n",
       "    }\n",
       "\n",
       "    .dataframe thead th {\n",
       "        text-align: right;\n",
       "    }\n",
       "</style>\n",
       "<table border=\"1\" class=\"dataframe\">\n",
       "  <thead>\n",
       "    <tr style=\"text-align: right;\">\n",
       "      <th></th>\n",
       "      <th>ChangeID</th>\n",
       "      <th>Requestor</th>\n",
       "      <th>Classification</th>\n",
       "      <th>Client</th>\n",
       "      <th>Location</th>\n",
       "      <th>Team</th>\n",
       "    </tr>\n",
       "  </thead>\n",
       "  <tbody>\n",
       "    <tr>\n",
       "      <th>0</th>\n",
       "      <td>31001</td>\n",
       "      <td>Lavinia Marshall</td>\n",
       "      <td>Configuration</td>\n",
       "      <td>None</td>\n",
       "      <td>Toronto</td>\n",
       "      <td>Development Team</td>\n",
       "    </tr>\n",
       "    <tr>\n",
       "      <th>1</th>\n",
       "      <td>31002</td>\n",
       "      <td>Samirah Calvert</td>\n",
       "      <td>Hardware</td>\n",
       "      <td>All</td>\n",
       "      <td>Regina</td>\n",
       "      <td>Network Team</td>\n",
       "    </tr>\n",
       "    <tr>\n",
       "      <th>2</th>\n",
       "      <td>31003</td>\n",
       "      <td>Marisa Parra</td>\n",
       "      <td>Automation</td>\n",
       "      <td>Client D</td>\n",
       "      <td>Vancouver</td>\n",
       "      <td>Data Team</td>\n",
       "    </tr>\n",
       "    <tr>\n",
       "      <th>3</th>\n",
       "      <td>31004</td>\n",
       "      <td>Saniya Steadman</td>\n",
       "      <td>Application</td>\n",
       "      <td>All</td>\n",
       "      <td>Toronto</td>\n",
       "      <td>Development Team</td>\n",
       "    </tr>\n",
       "    <tr>\n",
       "      <th>4</th>\n",
       "      <td>31005</td>\n",
       "      <td>Mikey Beaumont</td>\n",
       "      <td>Automation</td>\n",
       "      <td>None</td>\n",
       "      <td>Toronto</td>\n",
       "      <td>Automation Team</td>\n",
       "    </tr>\n",
       "  </tbody>\n",
       "</table>\n",
       "</div>"
      ],
      "text/plain": [
       "   ChangeID         Requestor Classification    Client   Location  \\\n",
       "0     31001  Lavinia Marshall  Configuration      None    Toronto   \n",
       "1     31002   Samirah Calvert       Hardware       All     Regina   \n",
       "2     31003      Marisa Parra     Automation  Client D  Vancouver   \n",
       "3     31004   Saniya Steadman    Application       All    Toronto   \n",
       "4     31005    Mikey Beaumont     Automation      None    Toronto   \n",
       "\n",
       "               Team  \n",
       "0  Development Team  \n",
       "1      Network Team  \n",
       "2         Data Team  \n",
       "3  Development Team  \n",
       "4   Automation Team  "
      ]
     },
     "execution_count": 17,
     "metadata": {},
     "output_type": "execute_result"
    }
   ],
   "source": [
    "df.head()   # show first 5 rows"
   ]
  },
  {
   "cell_type": "code",
   "execution_count": 18,
   "metadata": {},
   "outputs": [
    {
     "data": {
      "text/html": [
       "<div>\n",
       "<style scoped>\n",
       "    .dataframe tbody tr th:only-of-type {\n",
       "        vertical-align: middle;\n",
       "    }\n",
       "\n",
       "    .dataframe tbody tr th {\n",
       "        vertical-align: top;\n",
       "    }\n",
       "\n",
       "    .dataframe thead th {\n",
       "        text-align: right;\n",
       "    }\n",
       "</style>\n",
       "<table border=\"1\" class=\"dataframe\">\n",
       "  <thead>\n",
       "    <tr style=\"text-align: right;\">\n",
       "      <th></th>\n",
       "      <th>ChangeID</th>\n",
       "      <th>Requestor</th>\n",
       "      <th>Classification</th>\n",
       "      <th>Client</th>\n",
       "      <th>Location</th>\n",
       "      <th>Team</th>\n",
       "    </tr>\n",
       "  </thead>\n",
       "  <tbody>\n",
       "    <tr>\n",
       "      <th>382</th>\n",
       "      <td>31408</td>\n",
       "      <td>Murtaza Finch</td>\n",
       "      <td>Application</td>\n",
       "      <td>Client D</td>\n",
       "      <td>Toronto</td>\n",
       "      <td>Development Team</td>\n",
       "    </tr>\n",
       "    <tr>\n",
       "      <th>383</th>\n",
       "      <td>31409</td>\n",
       "      <td>Rex Swift</td>\n",
       "      <td>Security</td>\n",
       "      <td>All</td>\n",
       "      <td>Toronto</td>\n",
       "      <td>Production Team</td>\n",
       "    </tr>\n",
       "    <tr>\n",
       "      <th>384</th>\n",
       "      <td>31410</td>\n",
       "      <td>Rex Swift</td>\n",
       "      <td>Security</td>\n",
       "      <td>All</td>\n",
       "      <td>Toronto</td>\n",
       "      <td>Production Team</td>\n",
       "    </tr>\n",
       "    <tr>\n",
       "      <th>385</th>\n",
       "      <td>31411</td>\n",
       "      <td>Rex Swift</td>\n",
       "      <td>Security</td>\n",
       "      <td>All</td>\n",
       "      <td>Toronto</td>\n",
       "      <td>Production Team</td>\n",
       "    </tr>\n",
       "    <tr>\n",
       "      <th>386</th>\n",
       "      <td>31412</td>\n",
       "      <td>Ailish Kumar</td>\n",
       "      <td>Automation</td>\n",
       "      <td>None</td>\n",
       "      <td>Vancouver</td>\n",
       "      <td>Data Team</td>\n",
       "    </tr>\n",
       "  </tbody>\n",
       "</table>\n",
       "</div>"
      ],
      "text/plain": [
       "     ChangeID      Requestor Classification    Client   Location  \\\n",
       "382     31408  Murtaza Finch    Application  Client D    Toronto   \n",
       "383     31409      Rex Swift       Security       All    Toronto   \n",
       "384     31410      Rex Swift       Security       All    Toronto   \n",
       "385     31411      Rex Swift       Security       All    Toronto   \n",
       "386     31412   Ailish Kumar     Automation      None  Vancouver   \n",
       "\n",
       "                 Team  \n",
       "382  Development Team  \n",
       "383   Production Team  \n",
       "384   Production Team  \n",
       "385   Production Team  \n",
       "386         Data Team  "
      ]
     },
     "execution_count": 18,
     "metadata": {},
     "output_type": "execute_result"
    }
   ],
   "source": [
    "df.tail()    # show last 5 rows"
   ]
  },
  {
   "cell_type": "markdown",
   "metadata": {},
   "source": [
    "### Inspecting and getting farmiliar with the data to make sure its good data"
   ]
  },
  {
   "cell_type": "code",
   "execution_count": 19,
   "metadata": {},
   "outputs": [
    {
     "data": {
      "text/plain": [
       "False"
      ]
     },
     "execution_count": 19,
     "metadata": {},
     "output_type": "execute_result"
    }
   ],
   "source": [
    "df.isnull().values.any()    # will return True if there are any cells with a null value"
   ]
  },
  {
   "cell_type": "code",
   "execution_count": 20,
   "metadata": {},
   "outputs": [
    {
     "data": {
      "text/plain": [
       "Requestor\n",
       "Ailish Kumar          31\n",
       "Ajwa Kim               2\n",
       "Alejandro Grainger     6\n",
       "Angus Bowler          12\n",
       "Arielle Olson         15\n",
       "Arwel Erickson         5\n",
       "Ava-Rose Marsh         5\n",
       "Bogdan Jenkins         1\n",
       "Borys Battle           1\n",
       "Calista Reese          4\n",
       "Derren Legge           1\n",
       "Efa Nichols            1\n",
       "Emanuel Tomlinson      1\n",
       "Fahima Guzman          2\n",
       "Grayson Parkinson     10\n",
       "Hakim Hurley           1\n",
       "Harriet Marquez        1\n",
       "Izzie Heath            7\n",
       "Jai Carson             1\n",
       "Jarod Novak            2\n",
       "Jolie Holden          33\n",
       "Jonathan Nash          1\n",
       "Kaeden Justice         1\n",
       "Kairo Mclean          20\n",
       "Kameron Mac            1\n",
       "Kamile Turner          9\n",
       "Karan Douglas          4\n",
       "Katelin Cabrera        3\n",
       "Kennedy Cameron       22\n",
       "Kirstin Schneider      1\n",
       "Kurtis Levy           10\n",
       "Lavinia Marshall       1\n",
       "Lewie Peterson         6\n",
       "Marisa Parra          32\n",
       "Maximus Ahmad          2\n",
       "Mikey Beaumont         2\n",
       "Murtaza Finch         25\n",
       "Naima Hutchings        1\n",
       "Neive Casey            1\n",
       "Nieve Winter          11\n",
       "Piper Zimmerman        1\n",
       "Rex Swift              3\n",
       "Rhiana Cain            1\n",
       "Saira Dunn            17\n",
       "Samirah Calvert        1\n",
       "Saniya Steadman        8\n",
       "Shaun Martins          1\n",
       "Sky Kemp               1\n",
       "Sumayyah Wolf          9\n",
       "Tia Singleton         43\n",
       "Trinity Lam            1\n",
       "Vlad Marshall          1\n",
       "Woodrow Faulkner       5\n",
       "Name: Team, dtype: int64"
      ]
     },
     "execution_count": 20,
     "metadata": {},
     "output_type": "execute_result"
    }
   ],
   "source": [
    "df.groupby([\"Requestor\"])['Team'].count()  # Here we can group the data by requestor"
   ]
  },
  {
   "cell_type": "code",
   "execution_count": 21,
   "metadata": {},
   "outputs": [
    {
     "data": {
      "text/plain": [
       "Location\n",
       "Edmonton      19\n",
       "Halifax        2\n",
       "Montreal       1\n",
       "Regina         2\n",
       "Toronto      270\n",
       "Vancouver     93\n",
       "Name: Team, dtype: int64"
      ]
     },
     "execution_count": 21,
     "metadata": {},
     "output_type": "execute_result"
    }
   ],
   "source": [
    "df.groupby([\"Location\"])['Team'].count()  # By Location"
   ]
  },
  {
   "cell_type": "code",
   "execution_count": 22,
   "metadata": {},
   "outputs": [
    {
     "data": {
      "text/plain": [
       "Client\n",
       "All         133\n",
       "Client A      8\n",
       "Client C      2\n",
       "Client D     45\n",
       "Client E      8\n",
       "Client F     10\n",
       "Client G      2\n",
       "None        179\n",
       "Name: Team, dtype: int64"
      ]
     },
     "execution_count": 22,
     "metadata": {},
     "output_type": "execute_result"
    }
   ],
   "source": [
    "df.groupby([\"Client\"])['Team'].count()  # By Client"
   ]
  },
  {
   "cell_type": "code",
   "execution_count": 23,
   "metadata": {},
   "outputs": [
    {
     "data": {
      "text/plain": [
       "Classification\n",
       "Application      159\n",
       "Automation        95\n",
       "Configuration     24\n",
       "Hardware          30\n",
       "Network            5\n",
       "Project           27\n",
       "Security          29\n",
       "Software          18\n",
       "Name: Team, dtype: int64"
      ]
     },
     "execution_count": 23,
     "metadata": {},
     "output_type": "execute_result"
    }
   ],
   "source": [
    "df.groupby([\"Classification\"])['Team'].count()  # By Classification or Type of change"
   ]
  },
  {
   "cell_type": "code",
   "execution_count": 24,
   "metadata": {},
   "outputs": [
    {
     "data": {
      "text/plain": [
       "Team\n",
       "Automation Team                  1\n",
       "Data Team                       93\n",
       "Database Team                   56\n",
       "Development Team               106\n",
       "Linux Team                      45\n",
       "Network Team                     8\n",
       "Production Team                 60\n",
       "Project Management Team          2\n",
       "Technical Architecture Team     10\n",
       "Web Services Team                2\n",
       "Windows Team                     4\n",
       "Name: Team, dtype: int64"
      ]
     },
     "execution_count": 24,
     "metadata": {},
     "output_type": "execute_result"
    }
   ],
   "source": [
    "df.groupby([\"Team\"])['Team'].count()  # By Team that implemented the Change, this is what we hope to predict"
   ]
  },
  {
   "cell_type": "markdown",
   "metadata": {},
   "source": [
    "### Shaping the Data and removing any unnessacary columns"
   ]
  },
  {
   "cell_type": "code",
   "execution_count": 25,
   "metadata": {},
   "outputs": [],
   "source": [
    "del df['ChangeID']  # The ChangeID field is of no real value when making predictions so we will remove it\n"
   ]
  },
  {
   "cell_type": "code",
   "execution_count": 26,
   "metadata": {},
   "outputs": [
    {
     "data": {
      "text/html": [
       "<div>\n",
       "<style scoped>\n",
       "    .dataframe tbody tr th:only-of-type {\n",
       "        vertical-align: middle;\n",
       "    }\n",
       "\n",
       "    .dataframe tbody tr th {\n",
       "        vertical-align: top;\n",
       "    }\n",
       "\n",
       "    .dataframe thead th {\n",
       "        text-align: right;\n",
       "    }\n",
       "</style>\n",
       "<table border=\"1\" class=\"dataframe\">\n",
       "  <thead>\n",
       "    <tr style=\"text-align: right;\">\n",
       "      <th></th>\n",
       "      <th>Requestor</th>\n",
       "      <th>Classification</th>\n",
       "      <th>Client</th>\n",
       "      <th>Location</th>\n",
       "      <th>Team</th>\n",
       "    </tr>\n",
       "  </thead>\n",
       "  <tbody>\n",
       "    <tr>\n",
       "      <th>0</th>\n",
       "      <td>Lavinia Marshall</td>\n",
       "      <td>Configuration</td>\n",
       "      <td>None</td>\n",
       "      <td>Toronto</td>\n",
       "      <td>Development Team</td>\n",
       "    </tr>\n",
       "    <tr>\n",
       "      <th>1</th>\n",
       "      <td>Samirah Calvert</td>\n",
       "      <td>Hardware</td>\n",
       "      <td>All</td>\n",
       "      <td>Regina</td>\n",
       "      <td>Network Team</td>\n",
       "    </tr>\n",
       "    <tr>\n",
       "      <th>2</th>\n",
       "      <td>Marisa Parra</td>\n",
       "      <td>Automation</td>\n",
       "      <td>Client D</td>\n",
       "      <td>Vancouver</td>\n",
       "      <td>Data Team</td>\n",
       "    </tr>\n",
       "    <tr>\n",
       "      <th>3</th>\n",
       "      <td>Saniya Steadman</td>\n",
       "      <td>Application</td>\n",
       "      <td>All</td>\n",
       "      <td>Toronto</td>\n",
       "      <td>Development Team</td>\n",
       "    </tr>\n",
       "    <tr>\n",
       "      <th>4</th>\n",
       "      <td>Mikey Beaumont</td>\n",
       "      <td>Automation</td>\n",
       "      <td>None</td>\n",
       "      <td>Toronto</td>\n",
       "      <td>Automation Team</td>\n",
       "    </tr>\n",
       "  </tbody>\n",
       "</table>\n",
       "</div>"
      ],
      "text/plain": [
       "          Requestor Classification    Client   Location              Team\n",
       "0  Lavinia Marshall  Configuration      None    Toronto  Development Team\n",
       "1   Samirah Calvert       Hardware       All     Regina      Network Team\n",
       "2      Marisa Parra     Automation  Client D  Vancouver         Data Team\n",
       "3   Saniya Steadman    Application       All    Toronto  Development Team\n",
       "4    Mikey Beaumont     Automation      None    Toronto   Automation Team"
      ]
     },
     "execution_count": 26,
     "metadata": {},
     "output_type": "execute_result"
    }
   ],
   "source": [
    "df.head()  # You can see here the ChangeID column is now gone"
   ]
  },
  {
   "cell_type": "markdown",
   "metadata": {},
   "source": [
    "## Preparing and Cleaning the Data\n",
    "\n",
    "This is usually the most time consuming step as in a lot of cases you aren't so lucky with getting \"good\" data and will end up with things like some fields/entries in a row missing their values or bad characters caused by the encoding of your file. In this case since we are just focusing on building and training this model the data has been pre-prepared for you and is relatively good. \n",
    "\n",
    "We will have to figure out what is the best way to convert this data into a more easily understandable format for the machine learning algorithm which in this case is numbers. We can do this by mapping the values in each column to a number using a map file. I tend to use a map file so that things like names to number pairing stay consistent for when you need to convert the live data to numbers to use with you prediction API. \n",
    "\n",
    "###### Note: There was a reason why I grouped all the data above as it makes for easy copy and pasting those values into a json file to build out the map files I have provided for you."
   ]
  },
  {
   "cell_type": "code",
   "execution_count": 13,
   "metadata": {},
   "outputs": [],
   "source": [
    "import json  #here we import all the map files into dictionary varibles\n",
    "with open('team_map.json', 'r', encoding='utf-8') as file1:\n",
    "    team_map = json.load(file1)\n",
    "    \n",
    "with open('classification_map.json', 'r') as file2:\n",
    "    classification_map = json.load(file2)\n",
    "   \n",
    "with open('requestor_map.json', 'r', encoding='utf-8') as file3:\n",
    "    requestor_map = json.load(file3)\n",
    "\n",
    "with open('location_map.json', 'r') as file4:\n",
    "    location_map = json.load(file4)\n",
    "  \n",
    "with open('client_map.json', 'r', encoding='utf-8') as file5:\n",
    "    client_map = json.load(file5)\n",
    "    \n",
    "df['Team'] = df['Team'].map(team_map)   # Now use pandas to iterate through each column and map the values to numbers\n",
    "df['Requestor'] = df['Requestor'].map(requestor_map) \n",
    "df['Classification'] = df['Classification'].map(classification_map)\n",
    "df['Client'] = df['Client'].map(client_map)\n",
    "df['Location'] = df['Location'].map(location_map)"
   ]
  },
  {
   "cell_type": "code",
   "execution_count": 14,
   "metadata": {},
   "outputs": [
    {
     "data": {
      "text/html": [
       "<div>\n",
       "<style scoped>\n",
       "    .dataframe tbody tr th:only-of-type {\n",
       "        vertical-align: middle;\n",
       "    }\n",
       "\n",
       "    .dataframe tbody tr th {\n",
       "        vertical-align: top;\n",
       "    }\n",
       "\n",
       "    .dataframe thead th {\n",
       "        text-align: right;\n",
       "    }\n",
       "</style>\n",
       "<table border=\"1\" class=\"dataframe\">\n",
       "  <thead>\n",
       "    <tr style=\"text-align: right;\">\n",
       "      <th></th>\n",
       "      <th>Requestor</th>\n",
       "      <th>Classification</th>\n",
       "      <th>Client</th>\n",
       "      <th>Location</th>\n",
       "      <th>Team</th>\n",
       "    </tr>\n",
       "  </thead>\n",
       "  <tbody>\n",
       "    <tr>\n",
       "      <th>0</th>\n",
       "      <td>32</td>\n",
       "      <td>3</td>\n",
       "      <td>NaN</td>\n",
       "      <td>5</td>\n",
       "      <td>4</td>\n",
       "    </tr>\n",
       "    <tr>\n",
       "      <th>1</th>\n",
       "      <td>45</td>\n",
       "      <td>4</td>\n",
       "      <td>1.0</td>\n",
       "      <td>4</td>\n",
       "      <td>6</td>\n",
       "    </tr>\n",
       "    <tr>\n",
       "      <th>2</th>\n",
       "      <td>34</td>\n",
       "      <td>2</td>\n",
       "      <td>4.0</td>\n",
       "      <td>6</td>\n",
       "      <td>2</td>\n",
       "    </tr>\n",
       "    <tr>\n",
       "      <th>3</th>\n",
       "      <td>46</td>\n",
       "      <td>1</td>\n",
       "      <td>1.0</td>\n",
       "      <td>5</td>\n",
       "      <td>4</td>\n",
       "    </tr>\n",
       "    <tr>\n",
       "      <th>4</th>\n",
       "      <td>36</td>\n",
       "      <td>2</td>\n",
       "      <td>NaN</td>\n",
       "      <td>5</td>\n",
       "      <td>1</td>\n",
       "    </tr>\n",
       "  </tbody>\n",
       "</table>\n",
       "</div>"
      ],
      "text/plain": [
       "   Requestor  Classification  Client  Location  Team\n",
       "0         32               3     NaN         5     4\n",
       "1         45               4     1.0         4     6\n",
       "2         34               2     4.0         6     2\n",
       "3         46               1     1.0         5     4\n",
       "4         36               2     NaN         5     1"
      ]
     },
     "execution_count": 14,
     "metadata": {},
     "output_type": "execute_result"
    }
   ],
   "source": [
    "df.head() # These values have to be specific because we are going to use them to match the teams later on in our prediction API"
   ]
  },
  {
   "cell_type": "markdown",
   "metadata": {},
   "source": [
    "Here you can see we clearly messed up somewhere because some of the values for the Client column are showing up as NaN or null. Checking our client_map.json file we can see that we are missing an entry for the \"None\" or no client. I have provided a corrected map file for this called client_fixed_map.json. "
   ]
  },
  {
   "cell_type": "code",
   "execution_count": 27,
   "metadata": {},
   "outputs": [],
   "source": [
    "with open('client_fixed_map.json', 'r', encoding='utf-8') as file6:\n",
    "    client_map = json.load(file6)"
   ]
  },
  {
   "cell_type": "markdown",
   "metadata": {},
   "source": [
    "Now we cant just remap the values in the Client Column here because the data has already been converted to integers above. We have to go all the way to the top and rerun Cells 1-12. Dont forget to this this or you will get errors. Make sure not to run Cell 13 where we did the first mapping. We will redo that code below but using the right fixed map file for Client. Normally this is not nessacary and you would just change the code above, but I am trying to illustrate a point here."
   ]
  },
  {
   "cell_type": "code",
   "execution_count": 28,
   "metadata": {},
   "outputs": [],
   "source": [
    "import json  #here we import all the map files into dictionary varibles\n",
    "with open('team_map.json', 'r', encoding='utf-8') as file1:\n",
    "    team_map = json.load(file1)\n",
    "    \n",
    "with open('classification_map.json', 'r') as file2:\n",
    "    classification_map = json.load(file2)\n",
    "   \n",
    "with open('requestor_map.json', 'r', encoding='utf-8') as file3:\n",
    "    requestor_map = json.load(file3)\n",
    "\n",
    "with open('location_map.json', 'r') as file4:\n",
    "    location_map = json.load(file4)\n",
    "  \n",
    "with open('client_fixed_map.json', 'r', encoding='utf-8') as file5:  # Using the fixed client map file.\n",
    "    client_map = json.load(file5)\n",
    "    \n",
    "df['Team'] = df['Team'].map(team_map)   # Now use pandas to iterate through each column and map the values to numbers\n",
    "df['Requestor'] = df['Requestor'].map(requestor_map) \n",
    "df['Classification'] = df['Classification'].map(classification_map)\n",
    "df['Client'] = df['Client'].map(client_map)\n",
    "df['Location'] = df['Location'].map(location_map)"
   ]
  },
  {
   "cell_type": "code",
   "execution_count": 29,
   "metadata": {},
   "outputs": [
    {
     "data": {
      "text/html": [
       "<div>\n",
       "<style scoped>\n",
       "    .dataframe tbody tr th:only-of-type {\n",
       "        vertical-align: middle;\n",
       "    }\n",
       "\n",
       "    .dataframe tbody tr th {\n",
       "        vertical-align: top;\n",
       "    }\n",
       "\n",
       "    .dataframe thead th {\n",
       "        text-align: right;\n",
       "    }\n",
       "</style>\n",
       "<table border=\"1\" class=\"dataframe\">\n",
       "  <thead>\n",
       "    <tr style=\"text-align: right;\">\n",
       "      <th></th>\n",
       "      <th>Requestor</th>\n",
       "      <th>Classification</th>\n",
       "      <th>Client</th>\n",
       "      <th>Location</th>\n",
       "      <th>Team</th>\n",
       "    </tr>\n",
       "  </thead>\n",
       "  <tbody>\n",
       "    <tr>\n",
       "      <th>0</th>\n",
       "      <td>32</td>\n",
       "      <td>3</td>\n",
       "      <td>8</td>\n",
       "      <td>5</td>\n",
       "      <td>4</td>\n",
       "    </tr>\n",
       "    <tr>\n",
       "      <th>1</th>\n",
       "      <td>45</td>\n",
       "      <td>4</td>\n",
       "      <td>1</td>\n",
       "      <td>4</td>\n",
       "      <td>6</td>\n",
       "    </tr>\n",
       "    <tr>\n",
       "      <th>2</th>\n",
       "      <td>34</td>\n",
       "      <td>2</td>\n",
       "      <td>4</td>\n",
       "      <td>6</td>\n",
       "      <td>2</td>\n",
       "    </tr>\n",
       "    <tr>\n",
       "      <th>3</th>\n",
       "      <td>46</td>\n",
       "      <td>1</td>\n",
       "      <td>1</td>\n",
       "      <td>5</td>\n",
       "      <td>4</td>\n",
       "    </tr>\n",
       "    <tr>\n",
       "      <th>4</th>\n",
       "      <td>36</td>\n",
       "      <td>2</td>\n",
       "      <td>8</td>\n",
       "      <td>5</td>\n",
       "      <td>1</td>\n",
       "    </tr>\n",
       "    <tr>\n",
       "      <th>5</th>\n",
       "      <td>34</td>\n",
       "      <td>2</td>\n",
       "      <td>2</td>\n",
       "      <td>6</td>\n",
       "      <td>2</td>\n",
       "    </tr>\n",
       "    <tr>\n",
       "      <th>6</th>\n",
       "      <td>34</td>\n",
       "      <td>2</td>\n",
       "      <td>4</td>\n",
       "      <td>6</td>\n",
       "      <td>2</td>\n",
       "    </tr>\n",
       "    <tr>\n",
       "      <th>7</th>\n",
       "      <td>29</td>\n",
       "      <td>8</td>\n",
       "      <td>8</td>\n",
       "      <td>5</td>\n",
       "      <td>10</td>\n",
       "    </tr>\n",
       "    <tr>\n",
       "      <th>8</th>\n",
       "      <td>31</td>\n",
       "      <td>1</td>\n",
       "      <td>1</td>\n",
       "      <td>1</td>\n",
       "      <td>4</td>\n",
       "    </tr>\n",
       "    <tr>\n",
       "      <th>9</th>\n",
       "      <td>50</td>\n",
       "      <td>3</td>\n",
       "      <td>8</td>\n",
       "      <td>5</td>\n",
       "      <td>7</td>\n",
       "    </tr>\n",
       "  </tbody>\n",
       "</table>\n",
       "</div>"
      ],
      "text/plain": [
       "   Requestor  Classification  Client  Location  Team\n",
       "0         32               3       8         5     4\n",
       "1         45               4       1         4     6\n",
       "2         34               2       4         6     2\n",
       "3         46               1       1         5     4\n",
       "4         36               2       8         5     1\n",
       "5         34               2       2         6     2\n",
       "6         34               2       4         6     2\n",
       "7         29               8       8         5    10\n",
       "8         31               1       1         1     4\n",
       "9         50               3       8         5     7"
      ]
     },
     "execution_count": 29,
     "metadata": {},
     "output_type": "execute_result"
    }
   ],
   "source": [
    "df.head(10)  # the data looks much better now!"
   ]
  },
  {
   "cell_type": "code",
   "execution_count": 30,
   "metadata": {},
   "outputs": [
    {
     "data": {
      "text/plain": [
       "0"
      ]
     },
     "execution_count": 30,
     "metadata": {},
     "output_type": "execute_result"
    }
   ],
   "source": [
    "len(df) - len(df.dropna())# checking for any more NaN or null values, luckily we dont have any"
   ]
  },
  {
   "cell_type": "markdown",
   "metadata": {},
   "source": [
    "### Spliting our data into Training and Test data sets\n",
    "We have to split our data that we have into one set for training the model and a second set for testing to check the accuracy of the model. We cannot use data from the trained set in our test data as the trained model should not have previously seen this data hence why we split the data. "
   ]
  },
  {
   "cell_type": "code",
   "execution_count": 31,
   "metadata": {},
   "outputs": [],
   "source": [
    "from sklearn.model_selection import train_test_split  # importing from SciKit-Learn\n",
    "train, test = train_test_split(df, test_size=0.3)  # Split into 70% training data and 30% for testing data"
   ]
  },
  {
   "cell_type": "code",
   "execution_count": 32,
   "metadata": {},
   "outputs": [
    {
     "data": {
      "text/html": [
       "<div>\n",
       "<style scoped>\n",
       "    .dataframe tbody tr th:only-of-type {\n",
       "        vertical-align: middle;\n",
       "    }\n",
       "\n",
       "    .dataframe tbody tr th {\n",
       "        vertical-align: top;\n",
       "    }\n",
       "\n",
       "    .dataframe thead th {\n",
       "        text-align: right;\n",
       "    }\n",
       "</style>\n",
       "<table border=\"1\" class=\"dataframe\">\n",
       "  <thead>\n",
       "    <tr style=\"text-align: right;\">\n",
       "      <th></th>\n",
       "      <th>Requestor</th>\n",
       "      <th>Classification</th>\n",
       "      <th>Client</th>\n",
       "      <th>Location</th>\n",
       "      <th>Team</th>\n",
       "    </tr>\n",
       "  </thead>\n",
       "  <tbody>\n",
       "    <tr>\n",
       "      <th>380</th>\n",
       "      <td>29</td>\n",
       "      <td>1</td>\n",
       "      <td>8</td>\n",
       "      <td>5</td>\n",
       "      <td>9</td>\n",
       "    </tr>\n",
       "    <tr>\n",
       "      <th>215</th>\n",
       "      <td>4</td>\n",
       "      <td>4</td>\n",
       "      <td>1</td>\n",
       "      <td>5</td>\n",
       "      <td>5</td>\n",
       "    </tr>\n",
       "    <tr>\n",
       "      <th>168</th>\n",
       "      <td>37</td>\n",
       "      <td>1</td>\n",
       "      <td>8</td>\n",
       "      <td>5</td>\n",
       "      <td>4</td>\n",
       "    </tr>\n",
       "    <tr>\n",
       "      <th>69</th>\n",
       "      <td>21</td>\n",
       "      <td>6</td>\n",
       "      <td>1</td>\n",
       "      <td>5</td>\n",
       "      <td>3</td>\n",
       "    </tr>\n",
       "    <tr>\n",
       "      <th>56</th>\n",
       "      <td>1</td>\n",
       "      <td>2</td>\n",
       "      <td>8</td>\n",
       "      <td>6</td>\n",
       "      <td>2</td>\n",
       "    </tr>\n",
       "  </tbody>\n",
       "</table>\n",
       "</div>"
      ],
      "text/plain": [
       "     Requestor  Classification  Client  Location  Team\n",
       "380         29               1       8         5     9\n",
       "215          4               4       1         5     5\n",
       "168         37               1       8         5     4\n",
       "69          21               6       1         5     3\n",
       "56           1               2       8         6     2"
      ]
     },
     "execution_count": 32,
     "metadata": {},
     "output_type": "execute_result"
    }
   ],
   "source": [
    "train.head()  # train group, note the row IDs are randomized now"
   ]
  },
  {
   "cell_type": "code",
   "execution_count": 33,
   "metadata": {},
   "outputs": [
    {
     "data": {
      "text/html": [
       "<div>\n",
       "<style scoped>\n",
       "    .dataframe tbody tr th:only-of-type {\n",
       "        vertical-align: middle;\n",
       "    }\n",
       "\n",
       "    .dataframe tbody tr th {\n",
       "        vertical-align: top;\n",
       "    }\n",
       "\n",
       "    .dataframe thead th {\n",
       "        text-align: right;\n",
       "    }\n",
       "</style>\n",
       "<table border=\"1\" class=\"dataframe\">\n",
       "  <thead>\n",
       "    <tr style=\"text-align: right;\">\n",
       "      <th></th>\n",
       "      <th>Requestor</th>\n",
       "      <th>Classification</th>\n",
       "      <th>Client</th>\n",
       "      <th>Location</th>\n",
       "      <th>Team</th>\n",
       "    </tr>\n",
       "  </thead>\n",
       "  <tbody>\n",
       "    <tr>\n",
       "      <th>48</th>\n",
       "      <td>37</td>\n",
       "      <td>1</td>\n",
       "      <td>8</td>\n",
       "      <td>1</td>\n",
       "      <td>4</td>\n",
       "    </tr>\n",
       "    <tr>\n",
       "      <th>378</th>\n",
       "      <td>37</td>\n",
       "      <td>1</td>\n",
       "      <td>8</td>\n",
       "      <td>5</td>\n",
       "      <td>4</td>\n",
       "    </tr>\n",
       "    <tr>\n",
       "      <th>195</th>\n",
       "      <td>4</td>\n",
       "      <td>3</td>\n",
       "      <td>1</td>\n",
       "      <td>5</td>\n",
       "      <td>11</td>\n",
       "    </tr>\n",
       "    <tr>\n",
       "      <th>190</th>\n",
       "      <td>1</td>\n",
       "      <td>2</td>\n",
       "      <td>4</td>\n",
       "      <td>6</td>\n",
       "      <td>2</td>\n",
       "    </tr>\n",
       "    <tr>\n",
       "      <th>8</th>\n",
       "      <td>31</td>\n",
       "      <td>1</td>\n",
       "      <td>1</td>\n",
       "      <td>1</td>\n",
       "      <td>4</td>\n",
       "    </tr>\n",
       "  </tbody>\n",
       "</table>\n",
       "</div>"
      ],
      "text/plain": [
       "     Requestor  Classification  Client  Location  Team\n",
       "48          37               1       8         1     4\n",
       "378         37               1       8         5     4\n",
       "195          4               3       1         5    11\n",
       "190          1               2       4         6     2\n",
       "8           31               1       1         1     4"
      ]
     },
     "execution_count": 33,
     "metadata": {},
     "output_type": "execute_result"
    }
   ],
   "source": [
    "test.head()   # test group"
   ]
  },
  {
   "cell_type": "markdown",
   "metadata": {},
   "source": [
    "### Using a Decision Tree Classifier algorithm for our Model"
   ]
  },
  {
   "cell_type": "code",
   "execution_count": 34,
   "metadata": {},
   "outputs": [],
   "source": [
    "from sklearn.tree import DecisionTreeClassifier  # import Decision Tree Classifier from SKLearn\n",
    "classifier = DecisionTreeClassifier(max_leaf_nodes=10)  # train the model adjusting number of max leaf nodes, 10 seems best\n",
    "feature_training_columns = [\"Requestor\", \"Classification\", \"Client\", \"Location\"] # Here we are using all the columns except Team\n",
    "classifier = classifier.fit(train[feature_training_columns], train[\"Team\"])  # The Team Column is what we are trying to predict"
   ]
  },
  {
   "cell_type": "code",
   "execution_count": 35,
   "metadata": {},
   "outputs": [
    {
     "data": {
      "text/plain": [
       "DecisionTreeClassifier(class_weight=None, criterion='gini', max_depth=None,\n",
       "            max_features=None, max_leaf_nodes=10,\n",
       "            min_impurity_decrease=0.0, min_impurity_split=None,\n",
       "            min_samples_leaf=1, min_samples_split=2,\n",
       "            min_weight_fraction_leaf=0.0, presort=False, random_state=None,\n",
       "            splitter='best')"
      ]
     },
     "execution_count": 35,
     "metadata": {},
     "output_type": "execute_result"
    }
   ],
   "source": [
    "classifier   # prints out description of decision tree classifier"
   ]
  },
  {
   "cell_type": "code",
   "execution_count": 36,
   "metadata": {},
   "outputs": [
    {
     "data": {
      "text/plain": [
       "array([0.19711903, 0.24994659, 0.02656151, 0.52637286])"
      ]
     },
     "execution_count": 36,
     "metadata": {},
     "output_type": "execute_result"
    }
   ],
   "source": [
    "classifier.feature_importances_  # below you can see that the Age and Gender are the most important factors"
   ]
  },
  {
   "cell_type": "code",
   "execution_count": 37,
   "metadata": {},
   "outputs": [],
   "source": [
    "from sklearn import tree  # using tree from sklearn module to output a GraphViz .dot file\n",
    "with open(\"DecisionTreeModel.dot\",\"w\") as file:\n",
    "    file = tree.export_graphviz(classifier,\n",
    "                               feature_names=feature_training_columns,out_file=file)"
   ]
  },
  {
   "cell_type": "markdown",
   "metadata": {},
   "source": [
    "<h3><center>Decision Tree GraphViz file</center></h3>\n",
    "                   \n",
    "![title](DecisionTreeModel.png)"
   ]
  },
  {
   "cell_type": "markdown",
   "metadata": {},
   "source": [
    "### Testing Our Trained Model"
   ]
  },
  {
   "cell_type": "code",
   "execution_count": 38,
   "metadata": {},
   "outputs": [],
   "source": [
    "predictions = classifier.predict(test[feature_training_columns]) # Use the trained modal to make perdictions"
   ]
  },
  {
   "cell_type": "code",
   "execution_count": 39,
   "metadata": {},
   "outputs": [
    {
     "data": {
      "text/plain": [
       "0.7008547008547008"
      ]
     },
     "execution_count": 39,
     "metadata": {},
     "output_type": "execute_result"
    }
   ],
   "source": [
    "from sklearn.metrics import accuracy_score      # Checking the accuracy of our Trained Modal\n",
    "accuracy_score(test[\"Team\"], predictions)  # Looks like we still get above 80 accuracy most times"
   ]
  },
  {
   "cell_type": "markdown",
   "metadata": {},
   "source": [
    "The accuracy is not bad considering we dont have more columns to work with. Lets try a different Algorithm to see if we can achieve above 80% accuracy.\n",
    "\n",
    "### Using Random Forest Tree Algorithm"
   ]
  },
  {
   "cell_type": "code",
   "execution_count": 40,
   "metadata": {},
   "outputs": [
    {
     "data": {
      "text/plain": [
       "RandomForestClassifier(bootstrap=True, class_weight=None, criterion='gini',\n",
       "            max_depth=None, max_features='auto', max_leaf_nodes=20,\n",
       "            min_impurity_decrease=0.0, min_impurity_split=None,\n",
       "            min_samples_leaf=1, min_samples_split=2,\n",
       "            min_weight_fraction_leaf=0.0, n_estimators=100, n_jobs=None,\n",
       "            oob_score=False, random_state=None, verbose=0,\n",
       "            warm_start=False)"
      ]
     },
     "execution_count": 40,
     "metadata": {},
     "output_type": "execute_result"
    }
   ],
   "source": [
    "from sklearn.ensemble import RandomForestClassifier\n",
    "clf = RandomForestClassifier(n_estimators=100,  max_leaf_nodes=20)\n",
    "clf"
   ]
  },
  {
   "cell_type": "code",
   "execution_count": 41,
   "metadata": {},
   "outputs": [],
   "source": [
    "def checkAccuracy(clf):\n",
    "    clf=clf.fit(train[feature_training_columns], train[\"Team\"])\n",
    "    predictions = clf.predict(test[feature_training_columns])\n",
    "    return accuracy_score(test[\"Team\"], predictions)"
   ]
  },
  {
   "cell_type": "code",
   "execution_count": 42,
   "metadata": {},
   "outputs": [
    {
     "data": {
      "text/plain": [
       "0.7264957264957265"
      ]
     },
     "execution_count": 42,
     "metadata": {},
     "output_type": "execute_result"
    }
   ],
   "source": [
    "checkAccuracy(clf)"
   ]
  },
  {
   "cell_type": "markdown",
   "metadata": {},
   "source": [
    "## Using Gradient Boosted Tree Algorithm"
   ]
  },
  {
   "cell_type": "code",
   "execution_count": 43,
   "metadata": {},
   "outputs": [
    {
     "data": {
      "text/plain": [
       "XGBClassifier(base_score=0.5, booster='gbtree', colsample_bylevel=1,\n",
       "       colsample_bytree=1, gamma=0, learning_rate=0.25, max_delta_step=0,\n",
       "       max_depth=3, min_child_weight=1, missing=None, n_estimators=100,\n",
       "       n_jobs=1, nthread=None, objective='binary:logistic', random_state=0,\n",
       "       reg_alpha=0, reg_lambda=1, scale_pos_weight=1, seed=None,\n",
       "       silent=True, subsample=1)"
      ]
     },
     "execution_count": 43,
     "metadata": {},
     "output_type": "execute_result"
    }
   ],
   "source": [
    "from xgboost.sklearn import XGBClassifier\n",
    "clf = XGBClassifier(learning_rate=.25)\n",
    "clf"
   ]
  },
  {
   "cell_type": "code",
   "execution_count": 44,
   "metadata": {},
   "outputs": [
    {
     "data": {
      "text/plain": [
       "0.7863247863247863"
      ]
     },
     "execution_count": 44,
     "metadata": {},
     "output_type": "execute_result"
    }
   ],
   "source": [
    "checkAccuracy(clf)"
   ]
  },
  {
   "cell_type": "markdown",
   "metadata": {},
   "source": [
    "#### Much better accuracy here, but we could still do better with some hyper-parameter tunning, but we will leave that for another lesson.\n",
    "\n",
    "#### Also in another lesson I will show you how to serve this Machine Learning Model as a Prediction API that you can actually use on the live data set in RealData.csv.\n"
   ]
  },
  {
   "cell_type": "code",
   "execution_count": null,
   "metadata": {},
   "outputs": [],
   "source": []
  }
 ],
 "metadata": {
  "kernelspec": {
   "display_name": "Python 3",
   "language": "python",
   "name": "python3"
  },
  "language_info": {
   "codemirror_mode": {
    "name": "ipython",
    "version": 3
   },
   "file_extension": ".py",
   "mimetype": "text/x-python",
   "name": "python",
   "nbconvert_exporter": "python",
   "pygments_lexer": "ipython3",
   "version": "3.7.2"
  }
 },
 "nbformat": 4,
 "nbformat_minor": 2
}
